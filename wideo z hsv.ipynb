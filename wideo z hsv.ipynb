{
 "cells": [
  {
   "cell_type": "code",
   "execution_count": 1,
   "metadata": {},
   "outputs": [],
   "source": [
    "import cv2\n",
    "import numpy as np\n",
    "import os\n",
    "\n",
    "\n",
    "cap = cv2.VideoCapture('filmy/1.mp4')\n",
    "\n",
    "while(cap.isOpened()):\n",
    "    ret, image = cap.read()  # Odczytaj ramkę z wideo\n",
    "\n",
    "    # Sprawdź czy ramka została poprawnie odczytana\n",
    "    if ret:\n",
    "\n",
    "        # Konwersja obrazu do przestrzeni barw HSV\n",
    "        hsv = cv2.cvtColor(image, cv2.COLOR_BGR2HSV)\n",
    "\n",
    "        # Definicja zakresu kolorów piłki w przestrzeni barw HSV\n",
    "        lower_color = np.array([7, 170, 80])\n",
    "        upper_color = np.array([12, 255, 200])\n",
    "\n",
    "        # Wykrywanie pikseli odpowiadających kolorowi piłki\n",
    "        mask = cv2.inRange(hsv, lower_color, upper_color)\n",
    "        # cv2.imshow(\"Image\", mask)\n",
    "\n",
    "        # Erozja i dylatacja w celu usunięcia szumów\n",
    "        # mask = cv2.erode(mask, None, iterations=1)\n",
    "        # cv2.imshow(\"Image\", mask)\n",
    "        # mask = cv2.dilate(mask, kernel, iterations=1)\n",
    "        mask = cv2.dilate(mask, None, iterations=3)\n",
    "        mask = cv2.erode(mask, None, iterations=2)\n",
    "        # mask = cv2.dilate(mask, kernel, iterations=1)\n",
    "        # mask = cv2.Canny(mask, 50, 150)\n",
    "        cv2.imshow(\"Image\", mask)\n",
    "\n",
    "        # Znalezienie konturów piłki\n",
    "        contours, _ = cv2.findContours(mask.copy(), cv2.RETR_EXTERNAL, cv2.CHAIN_APPROX_SIMPLE)\n",
    "\n",
    "        # Rysowanie okręgów wokół wykrytych konturów\n",
    "        for contour in contours:\n",
    "            # Wykluczenie zbyt małych konturów\n",
    "            if cv2.contourArea(contour) > 100:\n",
    "                # Dopasowanie okręgu do konturu\n",
    "                (x, y), radius = cv2.minEnclosingCircle(contour)\n",
    "                center = (int(x), int(y))\n",
    "                radius = int(radius)\n",
    "                # Rysowanie okręgu\n",
    "                cv2.circle(image, center, radius, (0, 255, 0), 2)\n",
    "                            \n",
    "\n",
    "        # Wyświetlenie obrazu z wykrytymi obiektami\n",
    "        cv2.imshow(\"Image\", image)\n",
    "\n",
    "        # Sprawdź czy użytkownik nacisnął klawisz 'q', jeśli tak, przerwij pętlę\n",
    "        if cv2.waitKey(25) & 0xFF == ord('q'):\n",
    "            break\n",
    "    else:\n",
    "        break\n",
    "\n",
    "\n",
    "cap.release()\n",
    "cv2.destroyAllWindows()\n",
    "\n"
   ]
  }
 ],
 "metadata": {
  "kernelspec": {
   "display_name": "Python 3",
   "language": "python",
   "name": "python3"
  },
  "language_info": {
   "codemirror_mode": {
    "name": "ipython",
    "version": 3
   },
   "file_extension": ".py",
   "mimetype": "text/x-python",
   "name": "python",
   "nbconvert_exporter": "python",
   "pygments_lexer": "ipython3",
   "version": "3.10.12"
  },
  "orig_nbformat": 4,
  "vscode": {
   "interpreter": {
    "hash": "916dbcbb3f70747c44a77c7bcd40155683ae19c65e1c03b4aa3499c5328201f1"
   }
  }
 },
 "nbformat": 4,
 "nbformat_minor": 2
}
