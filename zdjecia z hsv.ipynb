{
 "cells": [
  {
   "cell_type": "code",
   "execution_count": 77,
   "metadata": {},
   "outputs": [],
   "source": [
    "import cv2\n",
    "import numpy as np\n",
    "\n",
    "# Wczytanie obrazu\n",
    "image = cv2.imread(\"zdjecia/4.jpg\")\n",
    "\n",
    "# Konwersja obrazu do przestrzeni barw HSV\n",
    "hsv = cv2.cvtColor(image, cv2.COLOR_BGR2HSV)\n",
    "\n",
    "# Definicja zakresu kolorów piłki w przestrzeni barw HSV\n",
    "lower_color = np.array([9, 160, 80])\n",
    "upper_color = np.array([15, 255, 200])\n",
    "\n",
    "# Wykrywanie pikseli odpowiadających kolorowi piłki\n",
    "mask = cv2.inRange(hsv, lower_color, upper_color)\n",
    "\n",
    "# Erozja i dylatacja w celu usunięcia szumów\n",
    "mask = cv2.dilate(mask, None, iterations=1)\n",
    "mask = cv2.erode(mask, None, iterations=3)\n",
    "cv2.imshow(\"Image\", mask)\n",
    "\n",
    "# Znalezienie konturów piłki\n",
    "contours, _ = cv2.findContours(mask.copy(), cv2.RETR_EXTERNAL, cv2.CHAIN_APPROX_SIMPLE)\n",
    "\n",
    "# Rysowanie okręgów wokół wykrytych konturów\n",
    "for contour in contours:\n",
    "    # Wykluczenie zbyt małych konturów\n",
    "    if cv2.contourArea(contour) > 260:\n",
    "        # Dopasowanie okręgu do konturu\n",
    "        (x, y), radius = cv2.minEnclosingCircle(contour)\n",
    "        center = (int(x), int(y))\n",
    "        radius = int(radius)\n",
    "        # Rysowanie okręgu\n",
    "        cv2.circle(image, center, radius, (0, 255, 0), 2)\n",
    "\n",
    "# Wyświetlenie obrazu z wykrytymi obiektami\n",
    "cv2.imshow(\"Image\", image)\n",
    "cv2.waitKey(0)\n",
    "cv2.destroyAllWindows()"
   ]
  }
 ],
 "metadata": {
  "kernelspec": {
   "display_name": "Python 3",
   "language": "python",
   "name": "python3"
  },
  "language_info": {
   "codemirror_mode": {
    "name": "ipython",
    "version": 3
   },
   "file_extension": ".py",
   "mimetype": "text/x-python",
   "name": "python",
   "nbconvert_exporter": "python",
   "pygments_lexer": "ipython3",
   "version": "3.10.6"
  },
  "orig_nbformat": 4,
  "vscode": {
   "interpreter": {
    "hash": "916dbcbb3f70747c44a77c7bcd40155683ae19c65e1c03b4aa3499c5328201f1"
   }
  }
 },
 "nbformat": 4,
 "nbformat_minor": 2
}
