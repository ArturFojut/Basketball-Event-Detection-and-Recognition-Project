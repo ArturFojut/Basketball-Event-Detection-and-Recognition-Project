{
 "cells": [
  {
   "cell_type": "code",
   "execution_count": 8,
   "metadata": {},
   "outputs": [],
   "source": [
    "import cv2\n",
    "\n",
    "# Funkcja przetwarzania obrazu (detekcja ruchu)\n",
    "def detect_motion(prev_frame, frame):\n",
    "    # Konwersja do skali szarości\n",
    "    gray_prev = cv2.cvtColor(prev_frame, cv2.COLOR_BGR2GRAY)\n",
    "    gray_frame = cv2.cvtColor(frame, cv2.COLOR_BGR2GRAY)\n",
    "   \n",
    "    # Obliczenie różnicy klatek\n",
    "    diff = cv2.absdiff(gray_prev, gray_frame)\n",
    "\n",
    "    # cv2.imshow('Frame with Motion Detection', diff)\n",
    "   \n",
    "    # Progowanie różnicy\n",
    "    _, thresh = cv2.threshold(diff, 30, 255, cv2.THRESH_BINARY)\n",
    "\n",
    "    # cv2.imshow('Frame with Motion Detection', thresh)\n",
    "   \n",
    "    # Zastosowanie morfologicznej operacji otwarcia, aby usunąć szum\n",
    "    kernel = cv2.getStructuringElement(cv2.MORPH_RECT, (4,4))\n",
    "    # kernel2 = cv2.getStructuringElement(cv2.MORPH_RECT, (20,20))\n",
    "    opened = cv2.morphologyEx(thresh, cv2.MORPH_OPEN, kernel)\n",
    "    # opened = cv2.dilate(opened, kernel2)\n",
    "    # opened = cv2.morphologyEx(opened, cv2.MORPH_CLOSE, kernel2)\n",
    "\n",
    "    cv2.imshow('Frame with Motion Detection', opened)\n",
    "   \n",
    "    # Znajdź kontury ruchu\n",
    "    contours, _ = cv2.findContours(opened, cv2.RETR_EXTERNAL, cv2.CHAIN_APPROX_SIMPLE)\n",
    "   \n",
    "    # Narysuj prostokąt wokół obszarów z ruchem\n",
    "    for contour in contours:\n",
    "        if cv2.contourArea(contour) > 100:  # minimalna powierzchnia obszaru z ruchem\n",
    "            x, y, w, h = cv2.boundingRect(contour)\n",
    "            cv2.rectangle(frame, (x, y), (x+w, y+h), (0, 255, 0), 2)\n",
    "   \n",
    "    return frame\n",
    "\n",
    "# Wczytaj wideo\n",
    "cap = cv2.VideoCapture('filmy/7.mp4')  # Zmień 'nazwa_pliku.mp4' na ścieżkę do swojego pliku wideo\n",
    "\n",
    "# Wczytaj pierwszą klatkę\n",
    "ret, prev_frame = cap.read()\n",
    "\n",
    "while(cap.isOpened()):\n",
    "    ret, frame = cap.read()  # Odczytaj ramkę z wideoqq\n",
    "\n",
    "    # Sprawdź czy ramka została poprawnie odczytana\n",
    "    if ret:\n",
    "        # Detekcja ruchu\n",
    "        frame_with_motion = detect_motion(prev_frame, frame)\n",
    "\n",
    "        # Wyświetl ramkę z detekcją ruchu\n",
    "        cv2.imshow('Frame with Motion Detection', frame_with_motion)\n",
    "\n",
    "        # Zaktualizuj poprzednią ramkę\n",
    "        prev_frame = frame.copy()\n",
    "\n",
    "        # Sprawdź czy użytkownik nacisnął klawisz 'q', jeśli tak, przerwij pętlę\n",
    "        if cv2.waitKey(25) & 0xFF == ord('q'):\n",
    "            break\n",
    "    else:\n",
    "        break\n",
    "\n",
    "# Zwolnij zasoby i zamknij okna\n",
    "cap.release()\n",
    "cv2.destroyAllWindows()\n",
    "    "
   ]
  }
 ],
 "metadata": {
  "kernelspec": {
   "display_name": "Python 3",
   "language": "python",
   "name": "python3"
  },
  "language_info": {
   "codemirror_mode": {
    "name": "ipython",
    "version": 3
   },
   "file_extension": ".py",
   "mimetype": "text/x-python",
   "name": "python",
   "nbconvert_exporter": "python",
   "pygments_lexer": "ipython3",
   "version": "3.10.6"
  },
  "orig_nbformat": 4,
  "vscode": {
   "interpreter": {
    "hash": "916dbcbb3f70747c44a77c7bcd40155683ae19c65e1c03b4aa3499c5328201f1"
   }
  }
 },
 "nbformat": 4,
 "nbformat_minor": 2
}
