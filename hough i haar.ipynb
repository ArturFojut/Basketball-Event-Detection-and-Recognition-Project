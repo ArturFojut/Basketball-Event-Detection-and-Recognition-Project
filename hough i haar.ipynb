{
 "cells": [
  {
   "cell_type": "code",
   "execution_count": 3,
   "metadata": {},
   "outputs": [],
   "source": [
    "import cv2\n",
    "import numpy as np\n",
    "\n",
    "# Wczytanie obrazu\n",
    "image = cv2.imread(\"1.jpg\")\n",
    "\n",
    "# Konwersja obrazu do skali szarości\n",
    "gray = cv2.cvtColor(image, cv2.COLOR_BGR2GRAY)\n",
    "\n",
    "# Wykrywanie krawędzi\n",
    "edges = cv2.Canny(gray, 50, 150)\n",
    "cv2.imshow(\"Image\", edges)\n",
    "\n",
    "# Wygładzenie krawędzi\n",
    "blurred = cv2.GaussianBlur(edges, (5, 5), 0)\n",
    "# cv2.imshow(\"Image\", blurred)\n",
    "\n",
    "# Detekcja okręgów (piłki) za pomocą transformacji Hougha\n",
    "circles = cv2.HoughCircles(blurred, cv2.HOUGH_GRADIENT, dp=1, minDist=100, param1=200, param2=30, minRadius=10, maxRadius=50)\n",
    "\n",
    "# Rysowanie wykrytych okręgów (piłki)\n",
    "if circles is not None:\n",
    "    circles = np.uint16(np.around(circles))\n",
    "    for circle in circles[0, :]:\n",
    "        center = (circle[0], circle[1])\n",
    "        radius = circle[2]\n",
    "        cv2.circle(image, center, radius, (0, 255, 0), 2)\n",
    "\n",
    "# Detekcja osób za pomocą klasyfikatora Haara\n",
    "cascade_path = cv2.data.haarcascades + \"haarcascade_fullbody.xml\"\n",
    "cascade = cv2.CascadeClassifier(cascade_path)\n",
    "faces = cascade.detectMultiScale(gray, scaleFactor=1.1, minNeighbors=5, minSize=(30, 30))\n",
    "\n",
    "# Rysowanie wykrytych osób\n",
    "for (x, y, w, h) in faces:\n",
    "    cv2.rectangle(image, (x, y), (x+w, y+h), (255, 0, 0), 2)\n",
    "\n",
    "# Wyświetlenie obrazu z wykrytymi obiektami\n",
    "cv2.imshow(\"Image\", image)\n",
    "cv2.waitKey(0)\n",
    "cv2.destroyAllWindows()"
   ]
  }
 ],
 "metadata": {
  "kernelspec": {
   "display_name": "Python 3",
   "language": "python",
   "name": "python3"
  },
  "language_info": {
   "codemirror_mode": {
    "name": "ipython",
    "version": 3
   },
   "file_extension": ".py",
   "mimetype": "text/x-python",
   "name": "python",
   "nbconvert_exporter": "python",
   "pygments_lexer": "ipython3",
   "version": "3.10.6"
  },
  "orig_nbformat": 4,
  "vscode": {
   "interpreter": {
    "hash": "916dbcbb3f70747c44a77c7bcd40155683ae19c65e1c03b4aa3499c5328201f1"
   }
  }
 },
 "nbformat": 4,
 "nbformat_minor": 2
}
