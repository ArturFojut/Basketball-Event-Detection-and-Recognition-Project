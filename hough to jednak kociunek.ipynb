{
 "cells": [
  {
   "cell_type": "code",
   "execution_count": 206,
   "metadata": {},
   "outputs": [
    {
     "name": "stdout",
     "output_type": "stream",
     "text": [
      "wykryto\n",
      "wykryto\n",
      "wykryto\n",
      "wykryto\n",
      "wykryto\n",
      "wykryto\n",
      "wykryto\n"
     ]
    }
   ],
   "source": [
    "import cv2\n",
    "import numpy as np\n",
    "\n",
    "# Wczytanie obrazu\n",
    "image = cv2.imread(\"2.jpg\")\n",
    "\n",
    "# Konwersja obrazu do przestrzeni barw HSV\n",
    "hsv = cv2.cvtColor(image, cv2.COLOR_BGR2HSV)\n",
    "\n",
    "# Definicja zakresu kolorów piłki w przestrzeni barw HSV\n",
    "lower_color = np.array([5, 150, 80])\n",
    "upper_color = np.array([15, 255, 200])\n",
    "\n",
    "# Wykrywanie pikseli odpowiadających kolorowi piłki\n",
    "mask = cv2.inRange(hsv, lower_color, upper_color)\n",
    "cv2.imshow(\"Image\", mask)\n",
    "\n",
    "# Erozja i dylatacja w celu usunięcia szumów\n",
    "kernel = np.array([[0,0,1,0,0],[0,1,1,1,0],[1,1,1,1,1],[0,1,1,1,0],[0,0,1,0,0]], np.uint8)\n",
    "kernel2 = np.array([[0,1,0],[1,1,1],[0,1,0]], np.uint8)\n",
    "\n",
    "mask = cv2.dilate(mask, None, iterations=1)\n",
    "# mask = cv2.erode(mask, None, iterations=4)\n",
    "\n",
    "mask = cv2.Canny(mask, 100, 150)\n",
    "blurred = cv2.GaussianBlur(mask, (5, 5), 0)\n",
    "cv2.imshow(\"Image\", mask)\n",
    "\n",
    "# Detekcja okręgów (piłki) za pomocą transformacji Hougha\n",
    "circles = cv2.HoughCircles(mask, cv2.HOUGH_GRADIENT, dp=1, minDist=50, param1=600, param2=21, minRadius=10, maxRadius=50)\n",
    "\n",
    "# Rysowanie wykrytych okręgów (piłki)\n",
    "if circles is not None:\n",
    "    circles = np.uint16(np.around(circles))\n",
    "    for circle in circles[0, :]:\n",
    "        print('wykryto')\n",
    "        # Rysuj okrąg\n",
    "        cv2.circle(image, (circle[0], circle[1]), circle[2], (0, 255, 0), 2)\n",
    "\n",
    "# Wyświetlenie obrazu z wykrytymi obiektami\n",
    "cv2.imshow(\"Image\", image)\n",
    "cv2.waitKey(0)\n",
    "cv2.destroyAllWindows()"
   ]
  }
 ],
 "metadata": {
  "kernelspec": {
   "display_name": "Python 3",
   "language": "python",
   "name": "python3"
  },
  "language_info": {
   "codemirror_mode": {
    "name": "ipython",
    "version": 3
   },
   "file_extension": ".py",
   "mimetype": "text/x-python",
   "name": "python",
   "nbconvert_exporter": "python",
   "pygments_lexer": "ipython3",
   "version": "3.10.6"
  },
  "orig_nbformat": 4,
  "vscode": {
   "interpreter": {
    "hash": "916dbcbb3f70747c44a77c7bcd40155683ae19c65e1c03b4aa3499c5328201f1"
   }
  }
 },
 "nbformat": 4,
 "nbformat_minor": 2
}
